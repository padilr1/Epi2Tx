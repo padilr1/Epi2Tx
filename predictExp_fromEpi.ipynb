{
 "cells": [
  {
   "cell_type": "code",
   "execution_count": 27,
   "id": "000ad417",
   "metadata": {},
   "outputs": [],
   "source": [
    "import pandas as pd\n",
    "import scipy\n",
    "import numpy\n",
    "from sklearn.decomposition import PCA\n",
    "from sklearn.preprocessing import StandardScaler\n",
    "import matplotlib.pyplot as plt\n",
    "import seaborn as sns"
   ]
  },
  {
   "cell_type": "markdown",
   "id": "476f1161",
   "metadata": {},
   "source": [
    "Predicting gene expression from chromatin marks"
   ]
  },
  {
   "cell_type": "code",
   "execution_count": 25,
   "id": "c3428387",
   "metadata": {},
   "outputs": [],
   "source": [
    "class exprCounts:\n",
    "    \"\"\"\n",
    "    Class for reading and processing expression counts.\n",
    "    \"\"\"\n",
    "    def __init__(self,counts:str):\n",
    "        \"\"\"\n",
    "        Initialize with the path to a count file.\n",
    "\n",
    "        Parameters\n",
    "        ----------\n",
    "        counts : str\n",
    "            Path to the CSV file containing expression counts.\n",
    "        \"\"\"\n",
    "        self.counts = counts\n",
    "\n",
    "    def processCounts(self):\n",
    "        df = pd.read_csv(self.counts,index_col=0)\n",
    "        df = df[df.sum(axis=1) > 0]\n",
    "        return df"
   ]
  },
  {
   "cell_type": "code",
   "execution_count": 26,
   "id": "f022c4ed",
   "metadata": {},
   "outputs": [],
   "source": [
    "mMSC_counts = exprCounts(\"/Users/padilr1/Documents/Epi2Tx/normCounts/mMSC_TPMcounts.csv\")\n",
    "mMSC_df = mMSC_counts.processCounts()\n",
    "#df.shape\n",
    "#df.head\n",
    "#df.describe\n",
    "#df.tail()\n",
    "#mMSC_df.columns"
   ]
  },
  {
   "cell_type": "code",
   "execution_count": 29,
   "id": "b330c047",
   "metadata": {},
   "outputs": [],
   "source": [
    "class EpiCounts:\n",
    "    \"\"\"\n",
    "    Counts for epigenetic data\n",
    "    \"\"\"\n",
    "    def __init__(self,counts:str):\n",
    "        \"\"\"\n",
    "        initialize path to epigenetic dataset with count info\n",
    "        \"\"\"\n",
    "        self.counts = counts\n",
    "\n",
    "    def processCounts(self):\n",
    "        df = pd.read_csv(self.counts)\n",
    "        df = df[df.sum(axis=1) > 0] \n",
    "        return df"
   ]
  },
  {
   "cell_type": "code",
   "execution_count": null,
   "id": "73c9f7b2",
   "metadata": {},
   "outputs": [],
   "source": []
  }
 ],
 "metadata": {
  "kernelspec": {
   "display_name": "python_env",
   "language": "python",
   "name": "python3"
  },
  "language_info": {
   "codemirror_mode": {
    "name": "ipython",
    "version": 3
   },
   "file_extension": ".py",
   "mimetype": "text/x-python",
   "name": "python",
   "nbconvert_exporter": "python",
   "pygments_lexer": "ipython3",
   "version": "3.11.6"
  }
 },
 "nbformat": 4,
 "nbformat_minor": 5
}
