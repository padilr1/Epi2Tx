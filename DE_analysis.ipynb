{
 "cells": [
  {
   "cell_type": "code",
   "execution_count": 1,
   "id": "78b8c330",
   "metadata": {},
   "outputs": [],
   "source": [
    "import pandas as pd\n",
    "#from pydeseq2.dds import DeseqDataSet\n",
    "import re\n",
    "import os"
   ]
  },
  {
   "cell_type": "code",
   "execution_count": 3,
   "id": "b7d39b9a",
   "metadata": {},
   "outputs": [],
   "source": [
    "pairedCal27rawCounts = pd.read_csv(\"~/Documents/NSD1_NSD2_comparison/work/RNAseq/stable/counts_within_genes/Cal27/paired_Cal27_H3K36me2_centeredOnProteinCodingGenes.counts\",skiprows=1,sep=\"\\t\")\n",
    "\n",
    "singleCal27rawCounts = pd.read_csv(\"~/Documents/NSD1_NSD2_comparison/work/RNAseq/stable/counts_within_genes/Cal27/single_Cal27_H3K36me2_centeredOnProteinCodingGenes.counts\",skiprows=1,sep=\"\\t\")"
   ]
  },
  {
   "cell_type": "code",
   "execution_count": 4,
   "id": "5e674a31",
   "metadata": {},
   "outputs": [
    {
     "data": {
      "text/plain": [
       "Index(['Geneid',\n",
       "       '/project/6007495/shareroot/projects/cell_lines/Cal-27/ChIPseq/H3K36me2/Cal27_P8_k36me2/Cal27_P8_k36me2/Cal27_P8_k36me2.sorted.bam',\n",
       "       '/project/6007495/shareroot/projects/cell_lines/Cal-27/ChIPseq/H3K36me2/Cal27-1-H3K36me2_NSD1KO/Cal27-1-H3K36me2_NSD1KO/Cal27-1-H3K36me2_NSD1KO.sorted.bam',\n",
       "       '/project/6007495/shareroot/projects/cell_lines/Cal-27/ChIPseq/H3K36me2/Cal27-17-H3K36me2_NSD1KO/Cal27-17-H3K36me2_NSD1KO/Cal27-17-H3K36me2_NSD1KO.sorted.bam',\n",
       "       '/project/6007495/shareroot/projects/cell_lines/Cal-27/ChIPseq/H3K36me2/Cal27_NSD1KO_OE-NSD2_K36me2/Cal27_NSD1KO_OE-NSD2_K36me2/Cal27_NSD1KO_OE-NSD2_K36me2.sorted.bam'],\n",
       "      dtype='object')"
      ]
     },
     "execution_count": 4,
     "metadata": {},
     "output_type": "execute_result"
    }
   ],
   "source": [
    "singleCal27rawCounts = singleCal27rawCounts.drop(columns=['Chr','Start','End','Strand','Length'])\n",
    "singleCal27rawCounts.columns"
   ]
  },
  {
   "cell_type": "code",
   "execution_count": 5,
   "id": "23cc6344",
   "metadata": {},
   "outputs": [
    {
     "data": {
      "text/plain": [
       "Index(['Geneid', 'Chr', 'Start', 'End', 'Strand', 'Length',\n",
       "       '/project/6007495/barekeer/projects/jacek/chipseq/checkout/10bpBinSize/Cal27_NSD1KO-c17_OE_LVXN-hNSD2_K36me2/Cal27_NSD1KO-c17_OE_LVXN-hNSD2_K36me2.sorted.bam',\n",
       "       '/project/6007495/shareroot/projects/cell_lines/Cal-27/ChIPseq/H3K36me2/Cal27_unedited-c6_K36me2/Cal27_unedited-c6_K36me2/Cal27_unedited-c6_K36me2.clipped.bam',\n",
       "       '/project/6007495/shareroot/projects/cell_lines/Cal-27/ChIPseq/H3K36me2/Cal27_P8_k36me2/Cal27_P8_k36me2/Cal27_P8_k36me2.sorted.bam',\n",
       "       '/project/6007495/shareroot/projects/cell_lines/Cal-27/ChIPseq/H3K36me2/Cal27-1-H3K36me2_NSD1KO/Cal27-1-H3K36me2_NSD1KO/Cal27-1-H3K36me2_NSD1KO.sorted.bam',\n",
       "       '/project/6007495/shareroot/projects/cell_lines/Cal-27/ChIPseq/H3K36me2/Cal27-17-H3K36me2_NSD1KO/Cal27-17-H3K36me2_NSD1KO/Cal27-17-H3K36me2_NSD1KO.sorted.bam',\n",
       "       '/project/6007495/shareroot/projects/cell_lines/Cal-27/ChIPseq/H3K36me2/Cal27_NSD1KO_OE-NSD2_K36me2/Cal27_NSD1KO_OE-NSD2_K36me2/Cal27_NSD1KO_OE-NSD2_K36me2.sorted.bam'],\n",
       "      dtype='object')"
      ]
     },
     "execution_count": 5,
     "metadata": {},
     "output_type": "execute_result"
    }
   ],
   "source": [
    "aggCal27rawCounts = pd.merge(pairedCal27rawCounts,singleCal27rawCounts,on=\"Geneid\")\n",
    "aggCal27rawCounts.columns"
   ]
  },
  {
   "cell_type": "code",
   "execution_count": 6,
   "id": "3a7958e0",
   "metadata": {},
   "outputs": [],
   "source": [
    "aggCal27rawCounts = aggCal27rawCounts.rename(columns={\n",
    "    '/project/6007495/barekeer/projects/jacek/chipseq/checkout/10bpBinSize/Cal27_NSD1KO-c17_OE_LVXN-hNSD2_K36me2/Cal27_NSD1KO-c17_OE_LVXN-hNSD2_K36me2.sorted.bam' : 'Cal27_K36me2_NSD2OE_1',\n",
    "    '/project/6007495/shareroot/projects/cell_lines/Cal-27/ChIPseq/H3K36me2/Cal27_unedited-c6_K36me2/Cal27_unedited-c6_K36me2/Cal27_unedited-c6_K36me2.clipped.bam' : 'Cal27_K36me2_WT_2',\n",
    "    '/project/6007495/shareroot/projects/cell_lines/Cal-27/ChIPseq/H3K36me2/Cal27_P8_k36me2/Cal27_P8_k36me2/Cal27_P8_k36me2.sorted.bam' : 'Cal27_K36me2_WT_1',\n",
    "    '/project/6007495/shareroot/projects/cell_lines/Cal-27/ChIPseq/H3K36me2/Cal27-1-H3K36me2_NSD1KO/Cal27-1-H3K36me2_NSD1KO/Cal27-1-H3K36me2_NSD1KO.sorted.bam' : 'Cal27_K36me2_NSD1KO_1',\n",
    "    '/project/6007495/shareroot/projects/cell_lines/Cal-27/ChIPseq/H3K36me2/Cal27-17-H3K36me2_NSD1KO/Cal27-17-H3K36me2_NSD1KO/Cal27-17-H3K36me2_NSD1KO.sorted.bam' : 'Cal27_K36me2_NSD1KO_2',\n",
    "    '/project/6007495/shareroot/projects/cell_lines/Cal-27/ChIPseq/H3K36me2/Cal27_NSD1KO_OE-NSD2_K36me2/Cal27_NSD1KO_OE-NSD2_K36me2/Cal27_NSD1KO_OE-NSD2_K36me2.sorted.bam' : 'Cal27_K36me2_NSD2OE_2'\n",
    "})"
   ]
  },
  {
   "cell_type": "code",
   "execution_count": 7,
   "id": "44789e1b",
   "metadata": {},
   "outputs": [],
   "source": [
    "aggCal27rawCounts.columns\n",
    "aggCal27rawCounts = aggCal27rawCounts.drop(columns=['Cal27_K36me2_NSD2OE_1','Cal27_K36me2_NSD2OE_2','Chr', 'Start', 'End', 'Strand', 'Length'])"
   ]
  },
  {
   "cell_type": "code",
   "execution_count": 8,
   "id": "7d4c82e6",
   "metadata": {},
   "outputs": [
    {
     "data": {
      "text/html": [
       "<div>\n",
       "<style scoped>\n",
       "    .dataframe tbody tr th:only-of-type {\n",
       "        vertical-align: middle;\n",
       "    }\n",
       "\n",
       "    .dataframe tbody tr th {\n",
       "        vertical-align: top;\n",
       "    }\n",
       "\n",
       "    .dataframe thead th {\n",
       "        text-align: right;\n",
       "    }\n",
       "</style>\n",
       "<table border=\"1\" class=\"dataframe\">\n",
       "  <thead>\n",
       "    <tr style=\"text-align: right;\">\n",
       "      <th></th>\n",
       "      <th>Geneid</th>\n",
       "      <th>Cal27_K36me2_WT_2</th>\n",
       "      <th>Cal27_K36me2_WT_1</th>\n",
       "      <th>Cal27_K36me2_NSD1KO_1</th>\n",
       "      <th>Cal27_K36me2_NSD1KO_2</th>\n",
       "    </tr>\n",
       "  </thead>\n",
       "  <tbody>\n",
       "    <tr>\n",
       "      <th>0</th>\n",
       "      <td>SCYL3</td>\n",
       "      <td>727</td>\n",
       "      <td>957</td>\n",
       "      <td>546</td>\n",
       "      <td>813</td>\n",
       "    </tr>\n",
       "    <tr>\n",
       "      <th>1</th>\n",
       "      <td>FIRRM</td>\n",
       "      <td>1139</td>\n",
       "      <td>1433</td>\n",
       "      <td>1079</td>\n",
       "      <td>1108</td>\n",
       "    </tr>\n",
       "    <tr>\n",
       "      <th>2</th>\n",
       "      <td>FGR</td>\n",
       "      <td>175</td>\n",
       "      <td>151</td>\n",
       "      <td>56</td>\n",
       "      <td>23</td>\n",
       "    </tr>\n",
       "    <tr>\n",
       "      <th>3</th>\n",
       "      <td>CFH</td>\n",
       "      <td>0</td>\n",
       "      <td>0</td>\n",
       "      <td>0</td>\n",
       "      <td>1</td>\n",
       "    </tr>\n",
       "    <tr>\n",
       "      <th>4</th>\n",
       "      <td>STPG1</td>\n",
       "      <td>1350</td>\n",
       "      <td>1720</td>\n",
       "      <td>998</td>\n",
       "      <td>1408</td>\n",
       "    </tr>\n",
       "    <tr>\n",
       "      <th>...</th>\n",
       "      <td>...</td>\n",
       "      <td>...</td>\n",
       "      <td>...</td>\n",
       "      <td>...</td>\n",
       "      <td>...</td>\n",
       "    </tr>\n",
       "    <tr>\n",
       "      <th>20015</th>\n",
       "      <td>RBMY1E</td>\n",
       "      <td>0</td>\n",
       "      <td>0</td>\n",
       "      <td>0</td>\n",
       "      <td>0</td>\n",
       "    </tr>\n",
       "    <tr>\n",
       "      <th>20016</th>\n",
       "      <td>RBMY1B</td>\n",
       "      <td>0</td>\n",
       "      <td>0</td>\n",
       "      <td>0</td>\n",
       "      <td>0</td>\n",
       "    </tr>\n",
       "    <tr>\n",
       "      <th>20017</th>\n",
       "      <td>RBMY1D</td>\n",
       "      <td>0</td>\n",
       "      <td>0</td>\n",
       "      <td>0</td>\n",
       "      <td>0</td>\n",
       "    </tr>\n",
       "    <tr>\n",
       "      <th>20018</th>\n",
       "      <td>TSPY1</td>\n",
       "      <td>0</td>\n",
       "      <td>0</td>\n",
       "      <td>0</td>\n",
       "      <td>0</td>\n",
       "    </tr>\n",
       "    <tr>\n",
       "      <th>20019</th>\n",
       "      <td>RPS4Y2</td>\n",
       "      <td>0</td>\n",
       "      <td>0</td>\n",
       "      <td>0</td>\n",
       "      <td>0</td>\n",
       "    </tr>\n",
       "  </tbody>\n",
       "</table>\n",
       "<p>20020 rows × 5 columns</p>\n",
       "</div>"
      ],
      "text/plain": [
       "       Geneid  Cal27_K36me2_WT_2  Cal27_K36me2_WT_1  Cal27_K36me2_NSD1KO_1  \\\n",
       "0       SCYL3                727                957                    546   \n",
       "1       FIRRM               1139               1433                   1079   \n",
       "2         FGR                175                151                     56   \n",
       "3         CFH                  0                  0                      0   \n",
       "4       STPG1               1350               1720                    998   \n",
       "...       ...                ...                ...                    ...   \n",
       "20015  RBMY1E                  0                  0                      0   \n",
       "20016  RBMY1B                  0                  0                      0   \n",
       "20017  RBMY1D                  0                  0                      0   \n",
       "20018   TSPY1                  0                  0                      0   \n",
       "20019  RPS4Y2                  0                  0                      0   \n",
       "\n",
       "       Cal27_K36me2_NSD1KO_2  \n",
       "0                        813  \n",
       "1                       1108  \n",
       "2                         23  \n",
       "3                          1  \n",
       "4                       1408  \n",
       "...                      ...  \n",
       "20015                      0  \n",
       "20016                      0  \n",
       "20017                      0  \n",
       "20018                      0  \n",
       "20019                      0  \n",
       "\n",
       "[20020 rows x 5 columns]"
      ]
     },
     "execution_count": 8,
     "metadata": {},
     "output_type": "execute_result"
    }
   ],
   "source": [
    "aggCal27rawCounts"
   ]
  },
  {
   "cell_type": "code",
   "execution_count": 65,
   "id": "0743b1d8",
   "metadata": {},
   "outputs": [],
   "source": [
    "aggCal27rawCounts = aggCal27rawCounts.set_index(\"Geneid\")"
   ]
  },
  {
   "cell_type": "code",
   "execution_count": 70,
   "id": "8f58595a",
   "metadata": {},
   "outputs": [
    {
     "data": {
      "text/plain": [
       "['Cal27_K36me2_WT_2',\n",
       " 'Cal27_K36me2_WT_1',\n",
       " 'Cal27_K36me2_NSD1KO_1',\n",
       " 'Cal27_K36me2_NSD1KO_2']"
      ]
     },
     "execution_count": 70,
     "metadata": {},
     "output_type": "execute_result"
    }
   ],
   "source": [
    "colNames = aggCal27rawCounts.columns.to_list()\n",
    "colNames"
   ]
  },
  {
   "cell_type": "code",
   "execution_count": 71,
   "id": "2cbe71bf",
   "metadata": {},
   "outputs": [],
   "source": [
    "md = pd.DataFrame(\n",
    "    { \n",
    "        'samp' : colNames,\n",
    "        'cond' : ['WT',\"WT\",\"NSD1KO\",\"NSD1KO\"]\n",
    "    }\n",
    ")"
   ]
  },
  {
   "cell_type": "code",
   "execution_count": 73,
   "id": "a83b4bdf",
   "metadata": {},
   "outputs": [],
   "source": [
    "md = md.set_index(\"samp\")"
   ]
  },
  {
   "cell_type": "code",
   "execution_count": null,
   "id": "6ceb4a11",
   "metadata": {},
   "outputs": [],
   "source": [
    "md"
   ]
  },
  {
   "cell_type": "code",
   "execution_count": 92,
   "id": "f177e8d8",
   "metadata": {},
   "outputs": [
    {
     "name": "stdout",
     "output_type": "stream",
     "text": [
      "Unexpected exception formatting exception. Falling back to standard exception\n"
     ]
    },
    {
     "name": "stderr",
     "output_type": "stream",
     "text": [
      "Traceback (most recent call last):\n",
      "  File \"/Users/padilr1/opt/anaconda3/envs/python_env/lib/python3.11/site-packages/IPython/core/formatters.py\", line 223, in catch_format_error\n",
      "    r = method(self, *args, **kwargs)\n",
      "        ^^^^^^^^^^^^^^^^^^^^^^^^^^^^^\n",
      "  File \"/Users/padilr1/opt/anaconda3/envs/python_env/lib/python3.11/site-packages/IPython/core/formatters.py\", line 344, in __call__\n",
      "    return method()\n",
      "           ^^^^^^^^\n",
      "  File \"/Users/padilr1/opt/anaconda3/envs/python_env/lib/python3.11/site-packages/pandas/core/frame.py\", line 1175, in _repr_html_\n",
      "    else:\n",
      "          \n",
      "  File \"/Users/padilr1/opt/anaconda3/envs/python_env/lib/python3.11/site-packages/pandas/io/formats/format.py\", line 1074, in to_html\n",
      "  File \"/Users/padilr1/opt/anaconda3/envs/python_env/lib/python3.11/site-packages/pandas/io/formats/html.py\", line 88, in to_string\n",
      "    lines = self.render()\n",
      "            ^^^^^^^^^^^^^\n",
      "  File \"/Users/padilr1/opt/anaconda3/envs/python_env/lib/python3.11/site-packages/pandas/io/formats/html.py\", line 644, in render\n",
      "    super().render()\n",
      "  File \"/Users/padilr1/opt/anaconda3/envs/python_env/lib/python3.11/site-packages/pandas/io/formats/html.py\", line 94, in render\n",
      "    self._write_table()\n",
      "  File \"/Users/padilr1/opt/anaconda3/envs/python_env/lib/python3.11/site-packages/pandas/io/formats/html.py\", line 267, in _write_table\n",
      "    self._write_header(indent + self.indent_delta)\n",
      "  File \"/Users/padilr1/opt/anaconda3/envs/python_env/lib/python3.11/site-packages/pandas/io/formats/html.py\", line 403, in _write_header\n",
      "    self._write_col_header(indent + self.indent_delta)\n",
      "  File \"/Users/padilr1/opt/anaconda3/envs/python_env/lib/python3.11/site-packages/pandas/io/formats/html.py\", line 383, in _write_col_header\n",
      "    row.extend(self._get_columns_formatted_values())\n",
      "               ^^^^^^^^^^^^^^^^^^^^^^^^^^^^^^^^^^^^\n",
      "  File \"/Users/padilr1/opt/anaconda3/envs/python_env/lib/python3.11/site-packages/pandas/io/formats/html.py\", line 611, in _get_columns_formatted_values\n",
      "    return self.columns._format_flat(include_name=False)\n",
      "           ^^^^^^^^^^^^^^^^^^^^^^^^^\n",
      "AttributeError: 'Index' object has no attribute '_format_flat'\n",
      "\n",
      "During handling of the above exception, another exception occurred:\n",
      "\n",
      "Traceback (most recent call last):\n",
      "  File \"/Users/padilr1/opt/anaconda3/envs/python_env/lib/python3.11/site-packages/IPython/core/interactiveshell.py\", line 2120, in showtraceback\n",
      "    stb = self.InteractiveTB.structured_traceback(\n",
      "          ^^^^^^^^^^^^^^^^^^^^^^^^^^^^^^^^^^^^^^^^\n",
      "  File \"/Users/padilr1/opt/anaconda3/envs/python_env/lib/python3.11/site-packages/IPython/core/ultratb.py\", line 1435, in structured_traceback\n",
      "    return FormattedTB.structured_traceback(\n",
      "           ^^^^^^^^^^^^^^^^^^^^^^^^^^^^^^^^^\n",
      "  File \"/Users/padilr1/opt/anaconda3/envs/python_env/lib/python3.11/site-packages/IPython/core/ultratb.py\", line 1326, in structured_traceback\n",
      "    return VerboseTB.structured_traceback(\n",
      "           ^^^^^^^^^^^^^^^^^^^^^^^^^^^^^^^\n",
      "  File \"/Users/padilr1/opt/anaconda3/envs/python_env/lib/python3.11/site-packages/IPython/core/ultratb.py\", line 1173, in structured_traceback\n",
      "    formatted_exception = self.format_exception_as_a_whole(etype, evalue, etb, number_of_lines_of_context,\n",
      "                          ^^^^^^^^^^^^^^^^^^^^^^^^^^^^^^^^^^^^^^^^^^^^^^^^^^^^^^^^^^^^^^^^^^^^^^^^^^^^^^^^\n",
      "  File \"/Users/padilr1/opt/anaconda3/envs/python_env/lib/python3.11/site-packages/IPython/core/ultratb.py\", line 1088, in format_exception_as_a_whole\n",
      "    frames.append(self.format_record(record))\n",
      "                  ^^^^^^^^^^^^^^^^^^^^^^^^^^\n",
      "  File \"/Users/padilr1/opt/anaconda3/envs/python_env/lib/python3.11/site-packages/IPython/core/ultratb.py\", line 970, in format_record\n",
      "    frame_info.lines, Colors, self.has_colors, lvals\n",
      "    ^^^^^^^^^^^^^^^^\n",
      "  File \"/Users/padilr1/opt/anaconda3/envs/python_env/lib/python3.11/site-packages/IPython/core/ultratb.py\", line 792, in lines\n",
      "    return self._sd.lines\n",
      "           ^^^^^^^^^^^^^^\n",
      "  File \"/Users/padilr1/opt/anaconda3/envs/python_env/lib/python3.11/site-packages/stack_data/utils.py\", line 145, in cached_property_wrapper\n",
      "    value = obj.__dict__[self.func.__name__] = self.func(obj)\n",
      "                                               ^^^^^^^^^^^^^^\n",
      "  File \"/Users/padilr1/opt/anaconda3/envs/python_env/lib/python3.11/site-packages/stack_data/core.py\", line 734, in lines\n",
      "    pieces = self.included_pieces\n",
      "             ^^^^^^^^^^^^^^^^^^^^\n",
      "  File \"/Users/padilr1/opt/anaconda3/envs/python_env/lib/python3.11/site-packages/stack_data/utils.py\", line 145, in cached_property_wrapper\n",
      "    value = obj.__dict__[self.func.__name__] = self.func(obj)\n",
      "                                               ^^^^^^^^^^^^^^\n",
      "  File \"/Users/padilr1/opt/anaconda3/envs/python_env/lib/python3.11/site-packages/stack_data/core.py\", line 681, in included_pieces\n",
      "    pos = scope_pieces.index(self.executing_piece)\n",
      "                             ^^^^^^^^^^^^^^^^^^^^\n",
      "  File \"/Users/padilr1/opt/anaconda3/envs/python_env/lib/python3.11/site-packages/stack_data/utils.py\", line 145, in cached_property_wrapper\n",
      "    value = obj.__dict__[self.func.__name__] = self.func(obj)\n",
      "                                               ^^^^^^^^^^^^^^\n",
      "  File \"/Users/padilr1/opt/anaconda3/envs/python_env/lib/python3.11/site-packages/stack_data/core.py\", line 660, in executing_piece\n",
      "    return only(\n",
      "           ^^^^^\n",
      "  File \"/Users/padilr1/opt/anaconda3/envs/python_env/lib/python3.11/site-packages/executing/executing.py\", line 116, in only\n",
      "    raise NotOneValueFound('Expected one value, found 0')\n",
      "executing.executing.NotOneValueFound: Expected one value, found 0\n"
     ]
    },
    {
     "data": {
      "text/plain": [
       "        Cal27_K36me2_WT_2  Cal27_K36me2_WT_1  Cal27_K36me2_NSD1KO_1  \\\n",
       "Geneid                                                                \n",
       "SCYL3                 727                957                    546   \n",
       "FIRRM                1139               1433                   1079   \n",
       "FGR                   175                151                     56   \n",
       "CFH                     0                  0                      0   \n",
       "STPG1                1350               1720                    998   \n",
       "...                   ...                ...                    ...   \n",
       "RBMY1E                  0                  0                      0   \n",
       "RBMY1B                  0                  0                      0   \n",
       "RBMY1D                  0                  0                      0   \n",
       "TSPY1                   0                  0                      0   \n",
       "RPS4Y2                  0                  0                      0   \n",
       "\n",
       "        Cal27_K36me2_NSD1KO_2  \n",
       "Geneid                         \n",
       "SCYL3                     813  \n",
       "FIRRM                    1108  \n",
       "FGR                        23  \n",
       "CFH                         1  \n",
       "STPG1                    1408  \n",
       "...                       ...  \n",
       "RBMY1E                      0  \n",
       "RBMY1B                      0  \n",
       "RBMY1D                      0  \n",
       "TSPY1                       0  \n",
       "RPS4Y2                      0  \n",
       "\n",
       "[20020 rows x 4 columns]"
      ]
     },
     "execution_count": 92,
     "metadata": {},
     "output_type": "execute_result"
    }
   ],
   "source": [
    "aggCal27rawCounts"
   ]
  },
  {
   "cell_type": "code",
   "execution_count": 103,
   "id": "c8418913",
   "metadata": {},
   "outputs": [
    {
     "ename": "ImportError",
     "evalue": "cannot import name 'SequenceNotStr' from 'pandas._typing' (/Users/padilr1/opt/anaconda3/envs/python_env/lib/python3.11/site-packages/pandas/_typing.py)",
     "output_type": "error",
     "traceback": [
      "\u001b[0;31m---------------------------------------------------------------------------\u001b[0m",
      "\u001b[0;31mImportError\u001b[0m                               Traceback (most recent call last)",
      "Cell \u001b[0;32mIn[103], line 1\u001b[0m\n\u001b[0;32m----> 1\u001b[0m \u001b[43maggCal27rawCounts\u001b[49m\u001b[38;5;241;43m.\u001b[39;49m\u001b[43mto_csv\u001b[49m\u001b[43m(\u001b[49m\u001b[38;5;124;43m\"\u001b[39;49m\u001b[38;5;124;43mtest.csv\u001b[39;49m\u001b[38;5;124;43m\"\u001b[39;49m\u001b[43m,\u001b[49m\u001b[43mindex\u001b[49m\u001b[38;5;241;43m=\u001b[39;49m\u001b[38;5;28;43;01mFalse\u001b[39;49;00m\u001b[43m)\u001b[49m\n\u001b[1;32m      4\u001b[0m \u001b[38;5;66;03m#to_csv(os.path.join(outputDir,\"Cal27_K36me2_rawCounts.csv\"),sep=\"\\t\")\u001b[39;00m\n",
      "File \u001b[0;32m~/opt/anaconda3/envs/python_env/lib/python3.11/site-packages/pandas/core/generic.py:3902\u001b[0m, in \u001b[0;36mto_csv\u001b[0;34m(self, path_or_buf, sep, na_rep, float_format, columns, header, index, index_label, mode, encoding, compression, quoting, quotechar, lineterminator, chunksize, date_format, doublequote, escapechar, decimal, errors, storage_options)\u001b[0m\n\u001b[1;32m   3819\u001b[0m \u001b[38;5;129m@final\u001b[39m\n\u001b[1;32m   3820\u001b[0m \u001b[38;5;129m@deprecate_nonkeyword_arguments\u001b[39m(\n\u001b[1;32m   3821\u001b[0m     version\u001b[38;5;241m=\u001b[39m\u001b[38;5;124m\"\u001b[39m\u001b[38;5;124m3.0\u001b[39m\u001b[38;5;124m\"\u001b[39m, allowed_args\u001b[38;5;241m=\u001b[39m[\u001b[38;5;124m\"\u001b[39m\u001b[38;5;124mself\u001b[39m\u001b[38;5;124m\"\u001b[39m, \u001b[38;5;124m\"\u001b[39m\u001b[38;5;124mpath_or_buf\u001b[39m\u001b[38;5;124m\"\u001b[39m], name\u001b[38;5;241m=\u001b[39m\u001b[38;5;124m\"\u001b[39m\u001b[38;5;124mto_csv\u001b[39m\u001b[38;5;124m\"\u001b[39m\n\u001b[0;32m   (...)\u001b[0m\n\u001b[1;32m   3849\u001b[0m     storage_options: StorageOptions \u001b[38;5;241m|\u001b[39m \u001b[38;5;28;01mNone\u001b[39;00m \u001b[38;5;241m=\u001b[39m \u001b[38;5;28;01mNone\u001b[39;00m,\n\u001b[1;32m   3850\u001b[0m ) \u001b[38;5;241m-\u001b[39m\u001b[38;5;241m>\u001b[39m \u001b[38;5;28mstr\u001b[39m \u001b[38;5;241m|\u001b[39m \u001b[38;5;28;01mNone\u001b[39;00m:\n\u001b[1;32m   3851\u001b[0m \u001b[38;5;250m    \u001b[39m\u001b[38;5;124mr\u001b[39m\u001b[38;5;124;03m\"\"\"\u001b[39;00m\n\u001b[1;32m   3852\u001b[0m \u001b[38;5;124;03m    Write object to a comma-separated values (csv) file.\u001b[39;00m\n\u001b[1;32m   3853\u001b[0m \n\u001b[1;32m   3854\u001b[0m \u001b[38;5;124;03m    Parameters\u001b[39;00m\n\u001b[1;32m   3855\u001b[0m \u001b[38;5;124;03m    ----------\u001b[39;00m\n\u001b[1;32m   3856\u001b[0m \u001b[38;5;124;03m    path_or_buf : str, path object, file-like object, or None, default None\u001b[39;00m\n\u001b[1;32m   3857\u001b[0m \u001b[38;5;124;03m        String, path object (implementing os.PathLike[str]), or file-like\u001b[39;00m\n\u001b[1;32m   3858\u001b[0m \u001b[38;5;124;03m        object implementing a write() function. If None, the result is\u001b[39;00m\n\u001b[1;32m   3859\u001b[0m \u001b[38;5;124;03m        returned as a string. If a non-binary file object is passed, it should\u001b[39;00m\n\u001b[1;32m   3860\u001b[0m \u001b[38;5;124;03m        be opened with `newline=''`, disabling universal newlines. If a binary\u001b[39;00m\n\u001b[1;32m   3861\u001b[0m \u001b[38;5;124;03m        file object is passed, `mode` might need to contain a `'b'`.\u001b[39;00m\n\u001b[1;32m   3862\u001b[0m \u001b[38;5;124;03m    sep : str, default ','\u001b[39;00m\n\u001b[1;32m   3863\u001b[0m \u001b[38;5;124;03m        String of length 1. Field delimiter for the output file.\u001b[39;00m\n\u001b[1;32m   3864\u001b[0m \u001b[38;5;124;03m    na_rep : str, default ''\u001b[39;00m\n\u001b[1;32m   3865\u001b[0m \u001b[38;5;124;03m        Missing data representation.\u001b[39;00m\n\u001b[1;32m   3866\u001b[0m \u001b[38;5;124;03m    float_format : str, Callable, default None\u001b[39;00m\n\u001b[1;32m   3867\u001b[0m \u001b[38;5;124;03m        Format string for floating point numbers. If a Callable is given, it takes\u001b[39;00m\n\u001b[1;32m   3868\u001b[0m \u001b[38;5;124;03m        precedence over other numeric formatting parameters, like decimal.\u001b[39;00m\n\u001b[1;32m   3869\u001b[0m \u001b[38;5;124;03m    columns : sequence, optional\u001b[39;00m\n\u001b[1;32m   3870\u001b[0m \u001b[38;5;124;03m        Columns to write.\u001b[39;00m\n\u001b[1;32m   3871\u001b[0m \u001b[38;5;124;03m    header : bool or list of str, default True\u001b[39;00m\n\u001b[1;32m   3872\u001b[0m \u001b[38;5;124;03m        Write out the column names. If a list of strings is given it is\u001b[39;00m\n\u001b[1;32m   3873\u001b[0m \u001b[38;5;124;03m        assumed to be aliases for the column names.\u001b[39;00m\n\u001b[1;32m   3874\u001b[0m \u001b[38;5;124;03m    index : bool, default True\u001b[39;00m\n\u001b[1;32m   3875\u001b[0m \u001b[38;5;124;03m        Write row names (index).\u001b[39;00m\n\u001b[1;32m   3876\u001b[0m \u001b[38;5;124;03m    index_label : str or sequence, or False, default None\u001b[39;00m\n\u001b[1;32m   3877\u001b[0m \u001b[38;5;124;03m        Column label for index column(s) if desired. If None is given, and\u001b[39;00m\n\u001b[1;32m   3878\u001b[0m \u001b[38;5;124;03m        `header` and `index` are True, then the index names are used. A\u001b[39;00m\n\u001b[1;32m   3879\u001b[0m \u001b[38;5;124;03m        sequence should be given if the object uses MultiIndex. If\u001b[39;00m\n\u001b[1;32m   3880\u001b[0m \u001b[38;5;124;03m        False do not print fields for index names. Use index_label=False\u001b[39;00m\n\u001b[1;32m   3881\u001b[0m \u001b[38;5;124;03m        for easier importing in R.\u001b[39;00m\n\u001b[1;32m   3882\u001b[0m \u001b[38;5;124;03m    mode : {{'w', 'x', 'a'}}, default 'w'\u001b[39;00m\n\u001b[1;32m   3883\u001b[0m \u001b[38;5;124;03m        Forwarded to either `open(mode=)` or `fsspec.open(mode=)` to control\u001b[39;00m\n\u001b[1;32m   3884\u001b[0m \u001b[38;5;124;03m        the file opening. Typical values include:\u001b[39;00m\n\u001b[1;32m   3885\u001b[0m \n\u001b[1;32m   3886\u001b[0m \u001b[38;5;124;03m        - 'w', truncate the file first.\u001b[39;00m\n\u001b[1;32m   3887\u001b[0m \u001b[38;5;124;03m        - 'x', exclusive creation, failing if the file already exists.\u001b[39;00m\n\u001b[1;32m   3888\u001b[0m \u001b[38;5;124;03m        - 'a', append to the end of file if it exists.\u001b[39;00m\n\u001b[1;32m   3889\u001b[0m \n\u001b[1;32m   3890\u001b[0m \u001b[38;5;124;03m    encoding : str, optional\u001b[39;00m\n\u001b[1;32m   3891\u001b[0m \u001b[38;5;124;03m        A string representing the encoding to use in the output file,\u001b[39;00m\n\u001b[1;32m   3892\u001b[0m \u001b[38;5;124;03m        defaults to 'utf-8'. `encoding` is not supported if `path_or_buf`\u001b[39;00m\n\u001b[1;32m   3893\u001b[0m \u001b[38;5;124;03m        is a non-binary file object.\u001b[39;00m\n\u001b[1;32m   3894\u001b[0m \u001b[38;5;124;03m    {compression_options}\u001b[39;00m\n\u001b[1;32m   3895\u001b[0m \n\u001b[1;32m   3896\u001b[0m \u001b[38;5;124;03m           May be a dict with key 'method' as compression mode\u001b[39;00m\n\u001b[1;32m   3897\u001b[0m \u001b[38;5;124;03m           and other entries as additional compression options if\u001b[39;00m\n\u001b[1;32m   3898\u001b[0m \u001b[38;5;124;03m           compression mode is 'zip'.\u001b[39;00m\n\u001b[1;32m   3899\u001b[0m \n\u001b[1;32m   3900\u001b[0m \u001b[38;5;124;03m           Passing compression options as keys in dict is\u001b[39;00m\n\u001b[1;32m   3901\u001b[0m \u001b[38;5;124;03m           supported for compression modes 'gzip', 'bz2', 'zstd', and 'zip'.\u001b[39;00m\n\u001b[0;32m-> 3902\u001b[0m \u001b[38;5;124;03m    quoting : optional constant from csv module\u001b[39;00m\n\u001b[1;32m   3903\u001b[0m \u001b[38;5;124;03m        Defaults to csv.QUOTE_MINIMAL. If you have set a `float_format`\u001b[39;00m\n\u001b[1;32m   3904\u001b[0m \u001b[38;5;124;03m        then floats are converted to strings and thus csv.QUOTE_NONNUMERIC\u001b[39;00m\n\u001b[1;32m   3905\u001b[0m \u001b[38;5;124;03m        will treat them as non-numeric.\u001b[39;00m\n\u001b[1;32m   3906\u001b[0m \u001b[38;5;124;03m    quotechar : str, default '\\\"'\u001b[39;00m\n\u001b[1;32m   3907\u001b[0m \u001b[38;5;124;03m        String of length 1. Character used to quote fields.\u001b[39;00m\n\u001b[1;32m   3908\u001b[0m \u001b[38;5;124;03m    lineterminator : str, optional\u001b[39;00m\n\u001b[1;32m   3909\u001b[0m \u001b[38;5;124;03m        The newline character or character sequence to use in the output\u001b[39;00m\n\u001b[1;32m   3910\u001b[0m \u001b[38;5;124;03m        file. Defaults to `os.linesep`, which depends on the OS in which\u001b[39;00m\n\u001b[1;32m   3911\u001b[0m \u001b[38;5;124;03m        this method is called ('\\\\n' for linux, '\\\\r\\\\n' for Windows, i.e.).\u001b[39;00m\n\u001b[1;32m   3912\u001b[0m \n\u001b[1;32m   3913\u001b[0m \u001b[38;5;124;03m        .. versionchanged:: 1.5.0\u001b[39;00m\n\u001b[1;32m   3914\u001b[0m \n\u001b[1;32m   3915\u001b[0m \u001b[38;5;124;03m            Previously was line_terminator, changed for consistency with\u001b[39;00m\n\u001b[1;32m   3916\u001b[0m \u001b[38;5;124;03m            read_csv and the standard library 'csv' module.\u001b[39;00m\n\u001b[1;32m   3917\u001b[0m \n\u001b[1;32m   3918\u001b[0m \u001b[38;5;124;03m    chunksize : int or None\u001b[39;00m\n\u001b[1;32m   3919\u001b[0m \u001b[38;5;124;03m        Rows to write at a time.\u001b[39;00m\n\u001b[1;32m   3920\u001b[0m \u001b[38;5;124;03m    date_format : str, default None\u001b[39;00m\n\u001b[1;32m   3921\u001b[0m \u001b[38;5;124;03m        Format string for datetime objects.\u001b[39;00m\n\u001b[1;32m   3922\u001b[0m \u001b[38;5;124;03m    doublequote : bool, default True\u001b[39;00m\n\u001b[1;32m   3923\u001b[0m \u001b[38;5;124;03m        Control quoting of `quotechar` inside a field.\u001b[39;00m\n\u001b[1;32m   3924\u001b[0m \u001b[38;5;124;03m    escapechar : str, default None\u001b[39;00m\n\u001b[1;32m   3925\u001b[0m \u001b[38;5;124;03m        String of length 1. Character used to escape `sep` and `quotechar`\u001b[39;00m\n\u001b[1;32m   3926\u001b[0m \u001b[38;5;124;03m        when appropriate.\u001b[39;00m\n\u001b[1;32m   3927\u001b[0m \u001b[38;5;124;03m    decimal : str, default '.'\u001b[39;00m\n\u001b[1;32m   3928\u001b[0m \u001b[38;5;124;03m        Character recognized as decimal separator. E.g. use ',' for\u001b[39;00m\n\u001b[1;32m   3929\u001b[0m \u001b[38;5;124;03m        European data.\u001b[39;00m\n\u001b[1;32m   3930\u001b[0m \u001b[38;5;124;03m    errors : str, default 'strict'\u001b[39;00m\n\u001b[1;32m   3931\u001b[0m \u001b[38;5;124;03m        Specifies how encoding and decoding errors are to be handled.\u001b[39;00m\n\u001b[1;32m   3932\u001b[0m \u001b[38;5;124;03m        See the errors argument for :func:`open` for a full list\u001b[39;00m\n\u001b[1;32m   3933\u001b[0m \u001b[38;5;124;03m        of options.\u001b[39;00m\n\u001b[1;32m   3934\u001b[0m \n\u001b[1;32m   3935\u001b[0m \u001b[38;5;124;03m    {storage_options}\u001b[39;00m\n\u001b[1;32m   3936\u001b[0m \n\u001b[1;32m   3937\u001b[0m \u001b[38;5;124;03m    Returns\u001b[39;00m\n\u001b[1;32m   3938\u001b[0m \u001b[38;5;124;03m    -------\u001b[39;00m\n\u001b[1;32m   3939\u001b[0m \u001b[38;5;124;03m    None or str\u001b[39;00m\n\u001b[1;32m   3940\u001b[0m \u001b[38;5;124;03m        If path_or_buf is None, returns the resulting csv format as a\u001b[39;00m\n\u001b[1;32m   3941\u001b[0m \u001b[38;5;124;03m        string. Otherwise returns None.\u001b[39;00m\n\u001b[1;32m   3942\u001b[0m \n\u001b[1;32m   3943\u001b[0m \u001b[38;5;124;03m    See Also\u001b[39;00m\n\u001b[1;32m   3944\u001b[0m \u001b[38;5;124;03m    --------\u001b[39;00m\n\u001b[1;32m   3945\u001b[0m \u001b[38;5;124;03m    read_csv : Load a CSV file into a DataFrame.\u001b[39;00m\n\u001b[1;32m   3946\u001b[0m \u001b[38;5;124;03m    to_excel : Write DataFrame to an Excel file.\u001b[39;00m\n\u001b[1;32m   3947\u001b[0m \n\u001b[1;32m   3948\u001b[0m \u001b[38;5;124;03m    Examples\u001b[39;00m\n\u001b[1;32m   3949\u001b[0m \u001b[38;5;124;03m    --------\u001b[39;00m\n\u001b[1;32m   3950\u001b[0m \u001b[38;5;124;03m    Create 'out.csv' containing 'df' without indices\u001b[39;00m\n\u001b[1;32m   3951\u001b[0m \n\u001b[1;32m   3952\u001b[0m \u001b[38;5;124;03m    >>> df = pd.DataFrame({{'name': ['Raphael', 'Donatello'],\u001b[39;00m\n\u001b[1;32m   3953\u001b[0m \u001b[38;5;124;03m    ...                    'mask': ['red', 'purple'],\u001b[39;00m\n\u001b[1;32m   3954\u001b[0m \u001b[38;5;124;03m    ...                    'weapon': ['sai', 'bo staff']}})\u001b[39;00m\n\u001b[1;32m   3955\u001b[0m \u001b[38;5;124;03m    >>> df.to_csv('out.csv', index=False)  # doctest: +SKIP\u001b[39;00m\n\u001b[1;32m   3956\u001b[0m \n\u001b[1;32m   3957\u001b[0m \u001b[38;5;124;03m    Create 'out.zip' containing 'out.csv'\u001b[39;00m\n\u001b[1;32m   3958\u001b[0m \n\u001b[1;32m   3959\u001b[0m \u001b[38;5;124;03m    >>> df.to_csv(index=False)\u001b[39;00m\n\u001b[1;32m   3960\u001b[0m \u001b[38;5;124;03m    'name,mask,weapon\\nRaphael,red,sai\\nDonatello,purple,bo staff\\n'\u001b[39;00m\n\u001b[1;32m   3961\u001b[0m \u001b[38;5;124;03m    >>> compression_opts = dict(method='zip',\u001b[39;00m\n\u001b[1;32m   3962\u001b[0m \u001b[38;5;124;03m    ...                         archive_name='out.csv')  # doctest: +SKIP\u001b[39;00m\n\u001b[1;32m   3963\u001b[0m \u001b[38;5;124;03m    >>> df.to_csv('out.zip', index=False,\u001b[39;00m\n\u001b[1;32m   3964\u001b[0m \u001b[38;5;124;03m    ...           compression=compression_opts)  # doctest: +SKIP\u001b[39;00m\n\u001b[1;32m   3965\u001b[0m \n\u001b[1;32m   3966\u001b[0m \u001b[38;5;124;03m    To write a csv file to a new folder or nested folder you will first\u001b[39;00m\n\u001b[1;32m   3967\u001b[0m \u001b[38;5;124;03m    need to create it using either Pathlib or os:\u001b[39;00m\n\u001b[1;32m   3968\u001b[0m \n\u001b[1;32m   3969\u001b[0m \u001b[38;5;124;03m    >>> from pathlib import Path  # doctest: +SKIP\u001b[39;00m\n\u001b[1;32m   3970\u001b[0m \u001b[38;5;124;03m    >>> filepath = Path('folder/subfolder/out.csv')  # doctest: +SKIP\u001b[39;00m\n\u001b[1;32m   3971\u001b[0m \u001b[38;5;124;03m    >>> filepath.parent.mkdir(parents=True, exist_ok=True)  # doctest: +SKIP\u001b[39;00m\n\u001b[1;32m   3972\u001b[0m \u001b[38;5;124;03m    >>> df.to_csv(filepath)  # doctest: +SKIP\u001b[39;00m\n\u001b[1;32m   3973\u001b[0m \n\u001b[1;32m   3974\u001b[0m \u001b[38;5;124;03m    >>> import os  # doctest: +SKIP\u001b[39;00m\n\u001b[1;32m   3975\u001b[0m \u001b[38;5;124;03m    >>> os.makedirs('folder/subfolder', exist_ok=True)  # doctest: +SKIP\u001b[39;00m\n\u001b[1;32m   3976\u001b[0m \u001b[38;5;124;03m    >>> df.to_csv('folder/subfolder/out.csv')  # doctest: +SKIP\u001b[39;00m\n\u001b[1;32m   3977\u001b[0m \u001b[38;5;124;03m    \"\"\"\u001b[39;00m\n\u001b[1;32m   3978\u001b[0m     df \u001b[38;5;241m=\u001b[39m \u001b[38;5;28mself\u001b[39m \u001b[38;5;28;01mif\u001b[39;00m \u001b[38;5;28misinstance\u001b[39m(\u001b[38;5;28mself\u001b[39m, ABCDataFrame) \u001b[38;5;28;01melse\u001b[39;00m \u001b[38;5;28mself\u001b[39m\u001b[38;5;241m.\u001b[39mto_frame()\n\u001b[1;32m   3980\u001b[0m     formatter \u001b[38;5;241m=\u001b[39m DataFrameFormatter(\n\u001b[1;32m   3981\u001b[0m         frame\u001b[38;5;241m=\u001b[39mdf,\n\u001b[1;32m   3982\u001b[0m         header\u001b[38;5;241m=\u001b[39mheader,\n\u001b[0;32m   (...)\u001b[0m\n\u001b[1;32m   3986\u001b[0m         decimal\u001b[38;5;241m=\u001b[39mdecimal,\n\u001b[1;32m   3987\u001b[0m     )\n",
      "File \u001b[0;32m~/opt/anaconda3/envs/python_env/lib/python3.11/site-packages/pandas/io/formats/format.py:1125\u001b[0m, in \u001b[0;36mto_csv\u001b[0;34m(self, path_or_buf, encoding, sep, columns, index_label, mode, compression, quoting, quotechar, lineterminator, chunksize, date_format, doublequote, escapechar, errors, storage_options)\u001b[0m\n\u001b[1;32m   1123\u001b[0m \u001b[38;5;28;01melif\u001b[39;00m \u001b[38;5;28misinstance\u001b[39m(values\u001b[38;5;241m.\u001b[39mdtype, DatetimeTZDtype):\n\u001b[1;32m   1124\u001b[0m     fmt_klass \u001b[38;5;241m=\u001b[39m _Datetime64TZFormatter\n\u001b[0;32m-> 1125\u001b[0m     values \u001b[38;5;241m=\u001b[39m cast(DatetimeArray, values)\n\u001b[1;32m   1126\u001b[0m \u001b[38;5;28;01melif\u001b[39;00m lib\u001b[38;5;241m.\u001b[39mis_np_dtype(values\u001b[38;5;241m.\u001b[39mdtype, \u001b[38;5;124m\"\u001b[39m\u001b[38;5;124mm\u001b[39m\u001b[38;5;124m\"\u001b[39m):\n\u001b[1;32m   1127\u001b[0m     fmt_klass \u001b[38;5;241m=\u001b[39m _Timedelta64Formatter\n",
      "File \u001b[0;32m~/opt/anaconda3/envs/python_env/lib/python3.11/site-packages/pandas/io/formats/csvs.py:24\u001b[0m\n\u001b[1;32m     21\u001b[0m \u001b[38;5;28;01mimport\u001b[39;00m \u001b[38;5;21;01mnumpy\u001b[39;00m \u001b[38;5;28;01mas\u001b[39;00m \u001b[38;5;21;01mnp\u001b[39;00m\n\u001b[1;32m     23\u001b[0m \u001b[38;5;28;01mfrom\u001b[39;00m \u001b[38;5;21;01mpandas\u001b[39;00m\u001b[38;5;21;01m.\u001b[39;00m\u001b[38;5;21;01m_libs\u001b[39;00m \u001b[38;5;28;01mimport\u001b[39;00m writers \u001b[38;5;28;01mas\u001b[39;00m libwriters\n\u001b[0;32m---> 24\u001b[0m \u001b[38;5;28;01mfrom\u001b[39;00m \u001b[38;5;21;01mpandas\u001b[39;00m\u001b[38;5;21;01m.\u001b[39;00m\u001b[38;5;21;01m_typing\u001b[39;00m \u001b[38;5;28;01mimport\u001b[39;00m SequenceNotStr\n\u001b[1;32m     25\u001b[0m \u001b[38;5;28;01mfrom\u001b[39;00m \u001b[38;5;21;01mpandas\u001b[39;00m\u001b[38;5;21;01m.\u001b[39;00m\u001b[38;5;21;01mutil\u001b[39;00m\u001b[38;5;21;01m.\u001b[39;00m\u001b[38;5;21;01m_decorators\u001b[39;00m \u001b[38;5;28;01mimport\u001b[39;00m cache_readonly\n\u001b[1;32m     27\u001b[0m \u001b[38;5;28;01mfrom\u001b[39;00m \u001b[38;5;21;01mpandas\u001b[39;00m\u001b[38;5;21;01m.\u001b[39;00m\u001b[38;5;21;01mcore\u001b[39;00m\u001b[38;5;21;01m.\u001b[39;00m\u001b[38;5;21;01mdtypes\u001b[39;00m\u001b[38;5;21;01m.\u001b[39;00m\u001b[38;5;21;01mgeneric\u001b[39;00m \u001b[38;5;28;01mimport\u001b[39;00m (\n\u001b[1;32m     28\u001b[0m     ABCDatetimeIndex,\n\u001b[1;32m     29\u001b[0m     ABCIndex,\n\u001b[1;32m     30\u001b[0m     ABCMultiIndex,\n\u001b[1;32m     31\u001b[0m     ABCPeriodIndex,\n\u001b[1;32m     32\u001b[0m )\n",
      "\u001b[0;31mImportError\u001b[0m: cannot import name 'SequenceNotStr' from 'pandas._typing' (/Users/padilr1/opt/anaconda3/envs/python_env/lib/python3.11/site-packages/pandas/_typing.py)"
     ]
    }
   ],
   "source": [
    "aggCal27rawCounts.to_csv(\"test.csv\",index=False)\n",
    "\n",
    "\n",
    "#to_csv(os.path.join(outputDir,\"Cal27_K36me2_rawCounts.csv\"),sep=\"\\t\")"
   ]
  },
  {
   "cell_type": "code",
   "execution_count": 81,
   "id": "95d38494",
   "metadata": {},
   "outputs": [],
   "source": [
    "counts_df = aggCal27rawCounts.T"
   ]
  },
  {
   "cell_type": "code",
   "execution_count": 82,
   "id": "d7a2d29d",
   "metadata": {},
   "outputs": [
    {
     "name": "stdout",
     "output_type": "stream",
     "text": [
      "Unexpected exception formatting exception. Falling back to standard exception\n"
     ]
    },
    {
     "name": "stderr",
     "output_type": "stream",
     "text": [
      "Traceback (most recent call last):\n",
      "  File \"/Users/padilr1/opt/anaconda3/envs/python_env/lib/python3.11/site-packages/IPython/core/formatters.py\", line 223, in catch_format_error\n",
      "    r = method(self, *args, **kwargs)\n",
      "        ^^^^^^^^^^^^^^^^^^^^^^^^^^^^^\n",
      "  File \"/Users/padilr1/opt/anaconda3/envs/python_env/lib/python3.11/site-packages/IPython/core/formatters.py\", line 344, in __call__\n",
      "    return method()\n",
      "           ^^^^^^^^\n",
      "  File \"/Users/padilr1/opt/anaconda3/envs/python_env/lib/python3.11/site-packages/pandas/core/frame.py\", line 1175, in _repr_html_\n",
      "    else:\n",
      "          \n",
      "  File \"/Users/padilr1/opt/anaconda3/envs/python_env/lib/python3.11/site-packages/pandas/io/formats/format.py\", line 1074, in to_html\n",
      "  File \"/Users/padilr1/opt/anaconda3/envs/python_env/lib/python3.11/site-packages/pandas/io/formats/html.py\", line 88, in to_string\n",
      "    lines = self.render()\n",
      "            ^^^^^^^^^^^^^\n",
      "  File \"/Users/padilr1/opt/anaconda3/envs/python_env/lib/python3.11/site-packages/pandas/io/formats/html.py\", line 644, in render\n",
      "    super().render()\n",
      "  File \"/Users/padilr1/opt/anaconda3/envs/python_env/lib/python3.11/site-packages/pandas/io/formats/html.py\", line 94, in render\n",
      "    self._write_table()\n",
      "  File \"/Users/padilr1/opt/anaconda3/envs/python_env/lib/python3.11/site-packages/pandas/io/formats/html.py\", line 267, in _write_table\n",
      "    self._write_header(indent + self.indent_delta)\n",
      "  File \"/Users/padilr1/opt/anaconda3/envs/python_env/lib/python3.11/site-packages/pandas/io/formats/html.py\", line 403, in _write_header\n",
      "    self._write_col_header(indent + self.indent_delta)\n",
      "  File \"/Users/padilr1/opt/anaconda3/envs/python_env/lib/python3.11/site-packages/pandas/io/formats/html.py\", line 383, in _write_col_header\n",
      "    row.extend(self._get_columns_formatted_values())\n",
      "               ^^^^^^^^^^^^^^^^^^^^^^^^^^^^^^^^^^^^\n",
      "  File \"/Users/padilr1/opt/anaconda3/envs/python_env/lib/python3.11/site-packages/pandas/io/formats/html.py\", line 611, in _get_columns_formatted_values\n",
      "    return self.columns._format_flat(include_name=False)\n",
      "           ^^^^^^^^^^^^^^^^^^^^^^^^^\n",
      "AttributeError: 'Index' object has no attribute '_format_flat'\n",
      "\n",
      "During handling of the above exception, another exception occurred:\n",
      "\n",
      "Traceback (most recent call last):\n",
      "  File \"/Users/padilr1/opt/anaconda3/envs/python_env/lib/python3.11/site-packages/IPython/core/interactiveshell.py\", line 2120, in showtraceback\n",
      "    stb = self.InteractiveTB.structured_traceback(\n",
      "          ^^^^^^^^^^^^^^^^^^^^^^^^^^^^^^^^^^^^^^^^\n",
      "  File \"/Users/padilr1/opt/anaconda3/envs/python_env/lib/python3.11/site-packages/IPython/core/ultratb.py\", line 1435, in structured_traceback\n",
      "    return FormattedTB.structured_traceback(\n",
      "           ^^^^^^^^^^^^^^^^^^^^^^^^^^^^^^^^^\n",
      "  File \"/Users/padilr1/opt/anaconda3/envs/python_env/lib/python3.11/site-packages/IPython/core/ultratb.py\", line 1326, in structured_traceback\n",
      "    return VerboseTB.structured_traceback(\n",
      "           ^^^^^^^^^^^^^^^^^^^^^^^^^^^^^^^\n",
      "  File \"/Users/padilr1/opt/anaconda3/envs/python_env/lib/python3.11/site-packages/IPython/core/ultratb.py\", line 1173, in structured_traceback\n",
      "    formatted_exception = self.format_exception_as_a_whole(etype, evalue, etb, number_of_lines_of_context,\n",
      "                          ^^^^^^^^^^^^^^^^^^^^^^^^^^^^^^^^^^^^^^^^^^^^^^^^^^^^^^^^^^^^^^^^^^^^^^^^^^^^^^^^\n",
      "  File \"/Users/padilr1/opt/anaconda3/envs/python_env/lib/python3.11/site-packages/IPython/core/ultratb.py\", line 1088, in format_exception_as_a_whole\n",
      "    frames.append(self.format_record(record))\n",
      "                  ^^^^^^^^^^^^^^^^^^^^^^^^^^\n",
      "  File \"/Users/padilr1/opt/anaconda3/envs/python_env/lib/python3.11/site-packages/IPython/core/ultratb.py\", line 970, in format_record\n",
      "    frame_info.lines, Colors, self.has_colors, lvals\n",
      "    ^^^^^^^^^^^^^^^^\n",
      "  File \"/Users/padilr1/opt/anaconda3/envs/python_env/lib/python3.11/site-packages/IPython/core/ultratb.py\", line 792, in lines\n",
      "    return self._sd.lines\n",
      "           ^^^^^^^^^^^^^^\n",
      "  File \"/Users/padilr1/opt/anaconda3/envs/python_env/lib/python3.11/site-packages/stack_data/utils.py\", line 145, in cached_property_wrapper\n",
      "    value = obj.__dict__[self.func.__name__] = self.func(obj)\n",
      "                                               ^^^^^^^^^^^^^^\n",
      "  File \"/Users/padilr1/opt/anaconda3/envs/python_env/lib/python3.11/site-packages/stack_data/core.py\", line 734, in lines\n",
      "    pieces = self.included_pieces\n",
      "             ^^^^^^^^^^^^^^^^^^^^\n",
      "  File \"/Users/padilr1/opt/anaconda3/envs/python_env/lib/python3.11/site-packages/stack_data/utils.py\", line 145, in cached_property_wrapper\n",
      "    value = obj.__dict__[self.func.__name__] = self.func(obj)\n",
      "                                               ^^^^^^^^^^^^^^\n",
      "  File \"/Users/padilr1/opt/anaconda3/envs/python_env/lib/python3.11/site-packages/stack_data/core.py\", line 681, in included_pieces\n",
      "    pos = scope_pieces.index(self.executing_piece)\n",
      "                             ^^^^^^^^^^^^^^^^^^^^\n",
      "  File \"/Users/padilr1/opt/anaconda3/envs/python_env/lib/python3.11/site-packages/stack_data/utils.py\", line 145, in cached_property_wrapper\n",
      "    value = obj.__dict__[self.func.__name__] = self.func(obj)\n",
      "                                               ^^^^^^^^^^^^^^\n",
      "  File \"/Users/padilr1/opt/anaconda3/envs/python_env/lib/python3.11/site-packages/stack_data/core.py\", line 660, in executing_piece\n",
      "    return only(\n",
      "           ^^^^^\n",
      "  File \"/Users/padilr1/opt/anaconda3/envs/python_env/lib/python3.11/site-packages/executing/executing.py\", line 116, in only\n",
      "    raise NotOneValueFound('Expected one value, found 0')\n",
      "executing.executing.NotOneValueFound: Expected one value, found 0\n"
     ]
    },
    {
     "data": {
      "text/plain": [
       "Geneid                 SCYL3  FIRRM  FGR  CFH  STPG1  NIPAL3  AK2  KDM1A  \\\n",
       "Cal27_K36me2_WT_2        727   1139  175    0   1350     939  393   1093   \n",
       "Cal27_K36me2_WT_1        957   1433  151    0   1720    1006  505   2104   \n",
       "Cal27_K36me2_NSD1KO_1    546   1079   56    0    998     674  348   1190   \n",
       "Cal27_K36me2_NSD1KO_2    813   1108   23    1   1408     871  468   1744   \n",
       "\n",
       "Geneid                 TTC22  ST7L  ...  TSPY8  TSPY4  RBMY1A1  TSPY10  TSPY9  \\\n",
       "Cal27_K36me2_WT_2        298  2188  ...      0      0        0       0      0   \n",
       "Cal27_K36me2_WT_1        359  3229  ...      0      0        0       0      0   \n",
       "Cal27_K36me2_NSD1KO_1    226  1695  ...      0      0        0       0      0   \n",
       "Cal27_K36me2_NSD1KO_2    261  2411  ...      0      0        0       0      0   \n",
       "\n",
       "Geneid                 RBMY1E  RBMY1B  RBMY1D  TSPY1  RPS4Y2  \n",
       "Cal27_K36me2_WT_2           0       0       0      0       0  \n",
       "Cal27_K36me2_WT_1           0       0       0      0       0  \n",
       "Cal27_K36me2_NSD1KO_1       0       0       0      0       0  \n",
       "Cal27_K36me2_NSD1KO_2       0       0       0      0       0  \n",
       "\n",
       "[4 rows x 20020 columns]"
      ]
     },
     "execution_count": 82,
     "metadata": {},
     "output_type": "execute_result"
    }
   ],
   "source": [
    "counts_df"
   ]
  },
  {
   "cell_type": "code",
   "execution_count": 86,
   "id": "74ff2b15",
   "metadata": {},
   "outputs": [],
   "source": [
    "dds = DeseqDataSet(counts = counts_df,\n",
    "                            metadata = md,\n",
    "                            design = \"~cond\")"
   ]
  },
  {
   "cell_type": "code",
   "execution_count": 87,
   "id": "f76cb2ef",
   "metadata": {},
   "outputs": [
    {
     "name": "stderr",
     "output_type": "stream",
     "text": [
      "Fitting size factors...\n",
      "... done in 0.01 seconds.\n",
      "\n"
     ]
    },
    {
     "name": "stdout",
     "output_type": "stream",
     "text": [
      "Using None as control genes, passed at DeseqDataSet initialization\n"
     ]
    },
    {
     "name": "stderr",
     "output_type": "stream",
     "text": [
      "Fitting dispersions...\n",
      "... done in 3.01 seconds.\n",
      "\n",
      "/Users/padilr1/opt/anaconda3/envs/python_env/lib/python3.11/site-packages/pydeseq2/dds.py:784: FutureWarning: Setting an item of incompatible dtype is deprecated and will raise in a future error of pandas. Value '[ True  True  True ...  True  True  True]' has dtype incompatible with float64, please explicitly cast to a compatible dtype first.\n",
      "  self.var.loc[self.var[\"non_zero\"], \"_genewise_converged\"] = l_bfgs_b_converged_\n",
      "Fitting dispersion trend curve...\n",
      "... done in 0.42 seconds.\n",
      "\n",
      "/Users/padilr1/opt/anaconda3/envs/python_env/lib/python3.11/site-packages/pydeseq2/dds.py:541: UserWarning: As the residual degrees of freedom is less than 3, the distribution of log dispersions is especially asymmetric and likely to be poorly estimated by the MAD.\n",
      "  self.fit_dispersion_prior()\n",
      "Fitting MAP dispersions...\n",
      "... done in 3.76 seconds.\n",
      "\n",
      "/Users/padilr1/opt/anaconda3/envs/python_env/lib/python3.11/site-packages/pydeseq2/dds.py:910: FutureWarning: Setting an item of incompatible dtype is deprecated and will raise in a future error of pandas. Value '[ True  True  True ...  True  True  True]' has dtype incompatible with float64, please explicitly cast to a compatible dtype first.\n",
      "  self.var.loc[self.var[\"non_zero\"], \"_MAP_converged\"] = l_bfgs_b_converged_\n",
      "Fitting LFCs...\n",
      "... done in 2.80 seconds.\n",
      "\n",
      "/Users/padilr1/opt/anaconda3/envs/python_env/lib/python3.11/site-packages/pydeseq2/dds.py:971: FutureWarning: Setting an item of incompatible dtype is deprecated and will raise in a future error of pandas. Value '[ True  True  True ...  True  True  True]' has dtype incompatible with float64, please explicitly cast to a compatible dtype first.\n",
      "  self.var.loc[self.var[\"non_zero\"], \"_LFC_converged\"] = converged_\n",
      "Calculating cook's distance...\n",
      "... done in 0.01 seconds.\n",
      "\n",
      "Replacing 0 outlier genes.\n",
      "\n"
     ]
    }
   ],
   "source": [
    "dds.deseq2()"
   ]
  },
  {
   "cell_type": "code",
   "execution_count": 89,
   "id": "a86fcd01",
   "metadata": {},
   "outputs": [
    {
     "name": "stdout",
     "output_type": "stream",
     "text": [
      "AnnData object with n_obs × n_vars = 4 × 20020\n",
      "    obs: 'cond', 'size_factors', 'replaceable'\n",
      "    var: '_normed_means', 'non_zero', '_MoM_dispersions', 'genewise_dispersions', '_genewise_converged', 'fitted_dispersions', 'MAP_dispersions', '_MAP_converged', 'dispersions', '_outlier_genes', '_LFC_converged', 'replaced', 'refitted', '_pvalue_cooks_outlier'\n",
      "    uns: 'trend_coeffs', 'disp_function_type', '_squared_logres', 'prior_disp_var'\n",
      "    obsm: 'design_matrix', '_mu_LFC', '_hat_diagonals'\n",
      "    varm: 'LFC'\n",
      "    layers: 'normed_counts', '_mu_hat', 'cooks'\n"
     ]
    }
   ],
   "source": [
    "print(dds)"
   ]
  },
  {
   "cell_type": "code",
   "execution_count": 10,
   "id": "bccd52f5",
   "metadata": {},
   "outputs": [],
   "source": [
    "aggCal27rawCounts.to_csv(\"/Users/padilr1/Documents/Epi2Tx/cleanedFiles/Cal27_K36me2_rawCounts.csv\",index=False)"
   ]
  }
 ],
 "metadata": {
  "kernelspec": {
   "display_name": "r_env_V2",
   "language": "python",
   "name": "python3"
  },
  "language_info": {
   "codemirror_mode": {
    "name": "ipython",
    "version": 3
   },
   "file_extension": ".py",
   "mimetype": "text/x-python",
   "name": "python",
   "nbconvert_exporter": "python",
   "pygments_lexer": "ipython3",
   "version": "3.12.1"
  }
 },
 "nbformat": 4,
 "nbformat_minor": 5
}
